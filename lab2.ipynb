{
 "cells": [
  {
   "cell_type": "markdown",
   "metadata": {},
   "source": [
    "# Lab2 - Concrete compressive strength regression (35 marks total)\n",
    "Author: Jean-Charl Pretorius"
   ]
  },
  {
   "cell_type": "code",
   "execution_count": 31,
   "metadata": {},
   "outputs": [],
   "source": [
    "import numpy as np\n",
    "import pandas as pd\n",
    "import matplotlib.pyplot as plt\n",
    "import seaborn as sns"
   ]
  },
  {
   "cell_type": "markdown",
   "metadata": {},
   "source": [
    "## 0. Function definitions (2 marks)\n",
    "\n",
    "To find the best model, we follow the published article where root-mean squared error (rms) was used as a score function. The rms score function needs to be minimized, because the optimal score is 0, larger values are worse performances\n",
    "\n",
    "In scikit-learn, only *maximization* is implemented. Hence, it is customary to maximize the *negative* rms. scitkit-learn provides a scoring function `neg_root_mean_squared_error`"
   ]
  },
  {
   "cell_type": "code",
   "execution_count": 55,
   "metadata": {},
   "outputs": [],
   "source": [
    "from sklearn.model_selection import cross_validate\n",
    "\n",
    "\n",
    "def get_regressor_neg_rms(model, X, y, cv=7):\n",
    "    '''Calculate train and validation score for regressor (model) using cross-validation\n",
    "        \n",
    "        score is negative root mean-squared error (rms)\n",
    "        \n",
    "        model (sklearn classifier): Regressor to train and evaluate\n",
    "        X (numpy.array or pandas.DataFrame): Feature matrix\n",
    "        y (numpy.array or pandas.Series): Target vector\n",
    "        \n",
    "        returns: mean training negative rms, mean validation negative rms\n",
    "    \n",
    "    '''\n",
    "    \n",
    "    # cross validation\n",
    "    res = cross_validate(model, X=X, y=y, cv=cv, scoring='neg_root_mean_squared_error', return_train_score=True)\n",
    "\n",
    "    # get training and test scores\n",
    "    testing_score = res['test_score'].mean()\n",
    "    training_score = res['train_score'].mean()\n",
    "    \n",
    "    return training_score, testing_score\n",
    "    "
   ]
  },
  {
   "cell_type": "markdown",
   "metadata": {},
   "source": [
    "## 1. Load data (1 mark each for 3 total marks)\n",
    "yellowbrick concrete  \n",
    "https://www.scikit-yb.org/en/latest/api/datasets/concrete.html\n",
    "\n",
    "Load the Dataset object with `load_concrete()` using `return_dataset=True`\n",
    "\n",
    "Print the README of the Dataset object\n"
   ]
  },
  {
   "cell_type": "code",
   "execution_count": 19,
   "metadata": {},
   "outputs": [
    {
     "name": "stdout",
     "output_type": "stream",
     "text": [
      "# Concrete Compressive Strength\n",
      "\n",
      "**Downloaded from the UCI Machine Learning Repository on October 13, 2016.**\n",
      "\n",
      "- Multivariate Data Set\n",
      "- Real Attributes\n",
      "- 1,030 Instances\n",
      "- 9 attributes\n",
      "- Well suited for _regression_ tasks\n",
      "- [https://archive.ics.uci.edu/ml/datasets/Concrete+Compressive+Strength](https://archive.ics.uci.edu/ml/datasets/Concrete+Compressive+Strength)\n",
      "\n",
      "## Abstract\n",
      "\n",
      "Concrete is the most important material in civil engineering. The concrete compressive strength is a highly nonlinear function of age and ingredients.\n",
      "\n",
      "## Description\n",
      "\n",
      "Given are the variable name, variable type, the measurement unit and a brief description. The concrete compressive strength is the regression problem. The order of this listing corresponds to the order of numerals along the rows of the database.\n",
      "\n",
      "## Attributes\n",
      "\n",
      "- cement (kg)\n",
      "- blast furnace slag (kg)\n",
      "- fly ash (kg)\n",
      "- water (kg)\n",
      "- superplasticizer (kg)\n",
      "- coarse aggregate (kg)\n",
      "- fine aggregate (kg)\n",
      "- age (day)\n",
      "- compressive strength (MPa)\n",
      "\n",
      "## Citation\n",
      "\n",
      "Yeh, I-C. \"Modeling of strength of high-performance concrete using artificial neural networks.\" Cement and Concrete research 28.12 (1998): 1797-1808.\n"
     ]
    }
   ],
   "source": [
    "from yellowbrick.datasets import load_concrete\n",
    "\n",
    "concrete_dataset = load_concrete(return_dataset=True)\n",
    "print(concrete_dataset.README)"
   ]
  },
  {
   "cell_type": "markdown",
   "metadata": {},
   "source": [
    "### *Question 1:* What is the target variable name and units in this dataset?"
   ]
  },
  {
   "cell_type": "markdown",
   "metadata": {},
   "source": [
    "The target variable name is compressive strength and the units are MPa\n"
   ]
  },
  {
   "cell_type": "markdown",
   "metadata": {},
   "source": [
    "### 1.1 Prepare the feature matrix and target vector\n",
    "Load the concrete data set into feature matrix `X` and target vector `y`\n",
    "\n",
    "Print dimensions and type of `X`, `y`"
   ]
  },
  {
   "cell_type": "code",
   "execution_count": 21,
   "metadata": {},
   "outputs": [
    {
     "name": "stdout",
     "output_type": "stream",
     "text": [
      "Shape of X: (1030, 8)\n",
      "Type of X: <class 'pandas.core.frame.DataFrame'>\n",
      "\n",
      "Shape of y: (1030,)\n",
      "Type of y: <class 'pandas.core.series.Series'>\n"
     ]
    }
   ],
   "source": [
    "X, y = load_concrete()\n",
    "print(\"Shape of X: {}\".format(X.shape))\n",
    "print(\"Type of X: {}\".format(type(X)))\n",
    "\n",
    "print(\"\\nShape of y: {}\".format(y.shape))\n",
    "print(\"Type of y: {}\".format(type(y)))"
   ]
  },
  {
   "cell_type": "markdown",
   "metadata": {},
   "source": [
    "## 2. Inspect the data (1 mark each for 4 total marks)"
   ]
  },
  {
   "cell_type": "markdown",
   "metadata": {},
   "source": [
    "### 2.1 Range of each feature\n",
    "To get an idea if the features are on the same scale, we inspect the range of features\n",
    "\n",
    "Print the minimum and maximum of each feature in `X`"
   ]
  },
  {
   "cell_type": "code",
   "execution_count": 17,
   "metadata": {},
   "outputs": [
    {
     "data": {
      "text/html": [
       "<div>\n",
       "<style scoped>\n",
       "    .dataframe tbody tr th:only-of-type {\n",
       "        vertical-align: middle;\n",
       "    }\n",
       "\n",
       "    .dataframe tbody tr th {\n",
       "        vertical-align: top;\n",
       "    }\n",
       "\n",
       "    .dataframe thead th {\n",
       "        text-align: right;\n",
       "    }\n",
       "</style>\n",
       "<table border=\"1\" class=\"dataframe\">\n",
       "  <thead>\n",
       "    <tr style=\"text-align: right;\">\n",
       "      <th></th>\n",
       "      <th>cement</th>\n",
       "      <th>slag</th>\n",
       "      <th>ash</th>\n",
       "      <th>water</th>\n",
       "      <th>splast</th>\n",
       "      <th>coarse</th>\n",
       "      <th>fine</th>\n",
       "      <th>age</th>\n",
       "    </tr>\n",
       "  </thead>\n",
       "  <tbody>\n",
       "    <tr>\n",
       "      <th>min</th>\n",
       "      <td>102.0</td>\n",
       "      <td>0.0</td>\n",
       "      <td>0.0</td>\n",
       "      <td>121.75</td>\n",
       "      <td>0.0</td>\n",
       "      <td>801.0</td>\n",
       "      <td>594.0</td>\n",
       "      <td>1.0</td>\n",
       "    </tr>\n",
       "    <tr>\n",
       "      <th>max</th>\n",
       "      <td>540.0</td>\n",
       "      <td>359.4</td>\n",
       "      <td>200.1</td>\n",
       "      <td>247.00</td>\n",
       "      <td>32.2</td>\n",
       "      <td>1145.0</td>\n",
       "      <td>992.6</td>\n",
       "      <td>365.0</td>\n",
       "    </tr>\n",
       "  </tbody>\n",
       "</table>\n",
       "</div>"
      ],
      "text/plain": [
       "     cement   slag    ash   water  splast  coarse   fine    age\n",
       "min   102.0    0.0    0.0  121.75     0.0   801.0  594.0    1.0\n",
       "max   540.0  359.4  200.1  247.00    32.2  1145.0  992.6  365.0"
      ]
     },
     "execution_count": 17,
     "metadata": {},
     "output_type": "execute_result"
    }
   ],
   "source": [
    "X.describe().loc[['min', 'max'], :]\n"
   ]
  },
  {
   "cell_type": "markdown",
   "metadata": {},
   "source": [
    "### 2.2 Boxplot of features \n",
    "Using seaborn boxplot, plot all features. This provides a visual view of feature ranges\n",
    "\n",
    "Add y-axis label indicating units, and a title"
   ]
  },
  {
   "cell_type": "code",
   "execution_count": 25,
   "metadata": {
    "scrolled": true
   },
   "outputs": [
    {
     "data": {
      "image/png": "[encoded data removed]",
      "text/plain": [
       "<Figure size 800x550 with 1 Axes>"
      ]
     },
     "metadata": {},
     "output_type": "display_data"
    }
   ],
   "source": [
    "import seaborn as sns\n",
    "sns.boxplot(data=X)\n",
    "plt.title(\"Feature Ranges\")\n",
    "plt.ylabel(\"Age in days, other features in kg\");\n"
   ]
  },
  {
   "cell_type": "markdown",
   "metadata": {},
   "source": [
    "### 2.3 Correlation heatmap of features \n",
    "\n",
    "To understand if pairs of features are potentially related, contain similar information, pair-wise cross-correlation can be calculated. Models benefit most from un-correlated features.\n",
    "\n",
    "Using pandas `corr()` method, create the cross-correlations between all features. Plot this cross-correlation object using seaborn `heatmap()` with parameters `vmin=-1, vmax=1, annot=True, cmap='BrBG'`. Add a title.\n",
    "\n",
    "Pandas `corr()` calculates [Pearson correlation ](https://en.wikipedia.org/wiki/Pearson_correlation_coefficient) :\n",
    ">  It has a value between +1 and −1. A value of +1 is total positive linear correlation, 0 is no linear correlation, and −1 is total negative linear correlation."
   ]
  },
  {
   "cell_type": "code",
   "execution_count": 26,
   "metadata": {},
   "outputs": [
    {
     "data": {
      "image/png": "[encoded data removed]",
      "text/plain": [
       "<Figure size 800x550 with 2 Axes>"
      ]
     },
     "metadata": {},
     "output_type": "display_data"
    }
   ],
   "source": [
    "corr = X.corr()\n",
    "sns.heatmap(data=corr, vmin=-1, vmax=1, annot=True, cmap='BrBG')\n",
    "plt.title(\"Heatmap of features\");\n"
   ]
  },
  {
   "cell_type": "markdown",
   "metadata": {},
   "source": [
    "### 2.4 Histogram of target variable \n",
    "\n",
    "To understand if all target values are equally represented in the data, we analyze how many samples of each target value we have available. The histogram of the target vector can visualize this distribution.\n",
    "\n",
    "Using seaborn `displot()`, plot the histogram of the target vector. Add a title."
   ]
  },
  {
   "cell_type": "code",
   "execution_count": 28,
   "metadata": {},
   "outputs": [
    {
     "data": {
      "text/plain": [
       "Text(0.5, 1.0, 'Histogram of Compressive Strength')"
      ]
     },
     "execution_count": 28,
     "metadata": {},
     "output_type": "execute_result"
    },
    {
     "data": {
      "image/png": "[encoded data removed]",
      "text/plain": [
       "<Figure size 500x500 with 1 Axes>"
      ]
     },
     "metadata": {},
     "output_type": "display_data"
    }
   ],
   "source": [
    "sns.displot(data=y)\n",
    "plt.title('Histogram of Compressive Strength')\n"
   ]
  },
  {
   "cell_type": "markdown",
   "metadata": {},
   "source": [
    "## 3. Create training and test sets (1 mark)\n",
    "\n",
    "Using scikit-learn `train_test_split()` with parameters `random_state=37`, `test_size=0.2`, split `X` and `y` into training and test sets"
   ]
  },
  {
   "cell_type": "code",
   "execution_count": 33,
   "metadata": {},
   "outputs": [],
   "source": [
    "from sklearn.model_selection import train_test_split"
   ]
  },
  {
   "cell_type": "code",
   "execution_count": 34,
   "metadata": {},
   "outputs": [],
   "source": [
    "X_train, X_test, y_train, y_test = train_test_split(X, y, random_state=37, test_size=0.2)\n"
   ]
  },
  {
   "cell_type": "markdown",
   "metadata": {},
   "source": [
    "## 4. Compare models using cross-validation (3 marks)\n",
    "\n",
    "Create a list containing a `LinearRegression()`, `RandomForestRegressor(random_state=64)` and `GradientBoostingRegressor(random_state=79)` objects.\n",
    "\n",
    "Iterate this list and:\n",
    "- using `X_train` and `y_train`\n",
    "- compute the negative root mean-squared error using the `get_regressor_neg_rms()` function\n",
    "- and print the training and validation scores with **2 decimal places**\n",
    "- Use 7-fold cross-validation"
   ]
  },
  {
   "cell_type": "code",
   "execution_count": 35,
   "metadata": {},
   "outputs": [],
   "source": [
    "from sklearn.linear_model import LinearRegression\n",
    "from sklearn.ensemble import RandomForestRegressor, GradientBoostingRegressor"
   ]
  },
  {
   "cell_type": "code",
   "execution_count": 60,
   "metadata": {},
   "outputs": [
    {
     "name": "stdout",
     "output_type": "stream",
     "text": [
      "\n",
      "Linear Regression:\n",
      "\tTraining score: -10.29\n",
      "\tTesting score: -10.39\n",
      "\n",
      "Random Forest Regressor:\n",
      "\tTraining score: -2.12\n",
      "\tTesting score: -4.97\n",
      "\n",
      "Gradient Boosting Regressor:\n",
      "\tTraining score: -3.69\n",
      "\tTesting score: -4.98\n"
     ]
    }
   ],
   "source": [
    "models = [LinearRegression(), RandomForestRegressor(random_state=64), GradientBoostingRegressor(random_state=79)]\n",
    "model_names = ['Linear Regression', 'Random Forest Regressor', 'Gradient Boosting Regressor']\n",
    "\n",
    "for model, name in zip(models, model_names):\n",
    "    \n",
    "    training_score, testing_score = get_regressor_neg_rms(model, X_train, y_train, 7)\n",
    "    \n",
    "    print(\"\\n{}:\".format(name))\n",
    "    print(\"\\tTraining score: {:.2f}\".format(training_score))\n",
    "    print(\"\\tTesting score: {:.2f}\".format(testing_score))\n",
    "    \n"
   ]
  },
  {
   "cell_type": "markdown",
   "metadata": {},
   "source": [
    "### *Question 2:* For each of the three models, state if models are potentially over- or underfitting and why (3 marks)"
   ]
  },
  {
   "cell_type": "markdown",
   "metadata": {},
   "source": [
    "For linear regression, the model is likely underfitting. The training and testing scores are low and very similar, indicating high bias.\n",
    "\n",
    "\n",
    "For the Random Forest Regressor, the model performs better but there is greater variance between the training and testing scores. It is potentially overfitting the data.\n",
    "\n",
    "\n",
    "For the Gradient Boosting Regressor, the model has a lower training score and less variance than the random forest regressor but still high. It is potentially overfitting the data.\n",
    "\n"
   ]
  },
  {
   "cell_type": "markdown",
   "metadata": {},
   "source": [
    "## 5. Find a better model (3 marks)\n",
    "\n",
    "Use the `RandomForestRegressor(random_state=64)` and find the best combination of `max_depth` from the list of `[10, 15, 20]`, and `n_estimators` from the list of `[100, 200, 400]`\n",
    "\n",
    "Use nested for-loops to iterate these two lists:\n",
    "- using `X_train` and `y_train`\n",
    "- compute the negative root mean-squared error of the corresponding `RandomForestRegressor(random_state=64)` using the `get_regressor_neg_rms()` function \n",
    "- and print the training and validation scores with **2 decimal places**\n",
    "- Use 7-fold cross-validation\n",
    "\n",
    "Report the best validation score and the corresponding model\n",
    "\n",
    "Note: We expect that more trees (larger `n_estimators`) yield better model performance"
   ]
  },
  {
   "cell_type": "code",
   "execution_count": 66,
   "metadata": {},
   "outputs": [
    {
     "name": "stdout",
     "output_type": "stream",
     "text": [
      "\n",
      "Max_depth: 10, n_estimators: 100\n",
      "Training score: -2.44\n",
      "Testing score: -5.09\n",
      "\n",
      "Max_depth: 10, n_estimators: 200\n",
      "Training score: -2.42\n",
      "Testing score: -5.06\n",
      "\n",
      "Max_depth: 10, n_estimators: 400\n",
      "Training score: -2.41\n",
      "Testing score: -5.06\n",
      "\n",
      "Max_depth: 15, n_estimators: 100\n",
      "Training score: -2.12\n",
      "Testing score: -4.97\n",
      "\n",
      "Max_depth: 15, n_estimators: 200\n",
      "Training score: -2.11\n",
      "Testing score: -4.93\n",
      "\n",
      "Max_depth: 15, n_estimators: 400\n",
      "Training score: -2.10\n",
      "Testing score: -4.93\n",
      "\n",
      "Max_depth: 20, n_estimators: 100\n",
      "Training score: -2.12\n",
      "Testing score: -4.97\n",
      "\n",
      "Max_depth: 20, n_estimators: 200\n",
      "Training score: -2.11\n",
      "Testing score: -4.93\n",
      "\n",
      "Max_depth: 20, n_estimators: 400\n",
      "Training score: -2.09\n",
      "Testing score: -4.92\n",
      "\n",
      "Best validation score: -4.92\n",
      "Best parameters: max_depth: 20, n_estimators: 400\n"
     ]
    }
   ],
   "source": [
    "best_score = -999\n",
    "for max_depth in [10, 15, 20]:\n",
    "    for n_estimators in [100, 200, 400]:\n",
    "        # get scores \n",
    "        training_score, validation_score = get_regressor_neg_rms(RandomForestRegressor(n_estimators=n_estimators, max_depth=max_depth, random_state=64), X_train, y_train, 7)    \n",
    "        if validation_score > best_score:\n",
    "            best_score = validation_score\n",
    "            best_parameters = {'max_depth': max_depth, 'n_estimators': n_estimators}\n",
    "        \n",
    "        # print scores\n",
    "        print(\"\\nMax_depth: {}, n_estimators: {}\".format(max_depth, n_estimators))\n",
    "        print(\"Training score: {:.2f}\".format(training_score))\n",
    "        print(\"Testing score: {:.2f}\".format(validation_score)) \n",
    "\n",
    "\n",
    "print(\"\\nBest validation score: {:.2f}\".format(best_score)) \n",
    "print(\"Best parameters: max_depth: {}, n_estimators: {}\".format(best_parameters['max_depth'], best_parameters['n_estimators']))\n"
   ]
  },
  {
   "cell_type": "markdown",
   "metadata": {},
   "source": [
    "### *Question 3:* Which combination of `max_depth` and `n_estimators` produced the best validation score? Report both training and validation scores here (2 marks)"
   ]
  },
  {
   "cell_type": "markdown",
   "metadata": {},
   "source": [
    "The best validation score was achieved with the following hyperparameters:\n",
    "\n",
    "- max_depth: 20\n",
    "- n_estimators: 400\n",
    "\n",
    "With this combination, the scores are:\n",
    "\n",
    "- training score: -2.09\n",
    "- validation score: -4.92\n"
   ]
  },
  {
   "cell_type": "markdown",
   "metadata": {},
   "source": [
    "## 6. Retrain best model (2 marks)\n",
    "\n",
    "Create a `RandomForestRegressor(random_state=64)` with the best pair of `max_depth` and `n_estimators`, and retrain this model on all training data."
   ]
  },
  {
   "cell_type": "code",
   "execution_count": 65,
   "metadata": {},
   "outputs": [
    {
     "data": {
      "text/plain": [
       "RandomForestRegressor(max_depth=20, n_estimators=400, random_state=64)"
      ]
     },
     "execution_count": 65,
     "metadata": {},
     "output_type": "execute_result"
    }
   ],
   "source": [
    "random_forest = RandomForestRegressor(n_estimators=400, max_depth=20, random_state=64)\n",
    "random_forest.fit(X_train, y_train)"
   ]
  },
  {
   "cell_type": "markdown",
   "metadata": {},
   "source": [
    "## 7. Evaluate best model on training and test data\n",
    "### 7.1 Root mean-squared error and $R^2$ (3 marks)\n",
    "\n",
    "For the retrained best estimator, print the root mean-squared error (**2 decimal places**) and R-squared (**3 decimal places**) for training and test sets."
   ]
  },
  {
   "cell_type": "code",
   "execution_count": 67,
   "metadata": {},
   "outputs": [],
   "source": [
    "from sklearn.metrics import mean_squared_error, r2_score"
   ]
  },
  {
   "cell_type": "code",
   "execution_count": 73,
   "metadata": {},
   "outputs": [
    {
     "name": "stdout",
     "output_type": "stream",
     "text": [
      "Training set:\n",
      "\tRoot mean-squared error: 2.00 MPa\n",
      "\tR2 score: 0.986\n",
      "\n",
      "Test set:\n",
      "\tRoot mean-squared error: 4.80 MPa\n",
      "\tR2 score: 0.915\n"
     ]
    }
   ],
   "source": [
    "# TODO: print rms and r-squared for training and test set\n",
    "# training set\n",
    "y_train_pred = random_forest.predict(X_train)\n",
    "train_rms = np.sqrt(mean_squared_error(y_train, y_train_pred))\n",
    "train_r2 = r2_score(y_train, y_train_pred)\n",
    "\n",
    "# testing set\n",
    "y_test_pred = random_forest.predict(X_test)\n",
    "test_rms = np.sqrt(mean_squared_error(y_test, y_test_pred))\n",
    "test_r2 = r2_score(y_test, y_test_pred)\n",
    "\n",
    "# print scores/errors:\n",
    "print(\"Training set:\\n\\tRoot mean-squared error: {:.2f} MPa\\n\\tR2 score: {:.3f}\".format(train_rms, train_r2))\n",
    "print(\"\\nTest set:\\n\\tRoot mean-squared error: {:.2f} MPa\\n\\tR2 score: {:.3f}\".format(test_rms, test_r2))\n",
    "\n"
   ]
  },
  {
   "cell_type": "markdown",
   "metadata": {},
   "source": [
    "### *Question 4:* How does this test score compare to the polynomial regression and neural network reported in the article? Do we outperform the reported models? Include scores in your answer. (2 marks)"
   ]
  },
  {
   "cell_type": "markdown",
   "metadata": {},
   "source": [
    "A lower root mean-squared error and a R2 score closer to 1 is indicative of a model that peforms well.\n",
    "\n",
    "The test score for our random forest model gives us a root mean-squared error error of 4.80 MPa with R2 = 0.915. \n",
    "\n",
    "This is better than the polynomial regression model in the article:\n",
    "- RMS of 4.80 MPa is lower than 8.82 MPa for polynomial regression\n",
    "- R2 of 0.915 is higher than 0.791 for polynomial regression\n",
    "\n",
    "\n",
    "This model is worse than the neural network models in the article:\n",
    "- RMS of 4.80 MPa is higher than 4.32 MPa for neural network\n",
    "- R2 of 0.915 is lower than 0.929 for  neural network\n"
   ]
  },
  {
   "cell_type": "markdown",
   "metadata": {},
   "source": [
    "### 7.2 Predicted vs actual strength plot (1 mark)\n",
    "Using a scatterplot, show predicted strength on the x axis and actual strength on the y axis with data from the test set. With this plot, we can see where we make errors.\n",
    "\n",
    "Add a line of unity (diagonal with slope 1 and offset 0). Ideally, all points would be on this line. We look for points being distributed equally around the line of unity.\n",
    "\n",
    "Add x-axis, y-axis labels including units, and a title.\n"
   ]
  },
  {
   "cell_type": "code",
   "execution_count": null,
   "metadata": {},
   "outputs": [],
   "source": [
    "#TODO: predicted-actual plot\n"
   ]
  },
  {
   "cell_type": "markdown",
   "metadata": {},
   "source": [
    "### 7.3 Residual plot (1 mark)\n",
    "Using a scatterplot, show predicted strength on the x axis and the *difference* between actual and predicted strength on the y axis with data from the test set. This is an alternative way to see where errors are made.\n",
    "\n",
    "We look for residuals being distributed equally around the zero horizontal line.\n",
    "\n",
    "Add x-axis, y-axis labels including units, and a title.\n",
    "\n"
   ]
  },
  {
   "cell_type": "code",
   "execution_count": null,
   "metadata": {},
   "outputs": [],
   "source": [
    "# TODO: Residual plot\n"
   ]
  },
  {
   "cell_type": "markdown",
   "metadata": {},
   "source": [
    "## 8. Conclusion (3 marks)\n",
    "\n",
    "In conclusion, comment on the following items:\n",
    "1. Did we find a model that outperforms the polynomial regression reported in the reference article? Explain.\n",
    "1. Did we find a model that outperforms the neural network reported in the reference article? Explain.\n",
    "1. What were our assumption about the dataset and train/test split? How do these assumptions affect your conclusions?\n"
   ]
  },
  {
   "cell_type": "markdown",
   "metadata": {},
   "source": [
    "*YOUR ANSWER HERE*\n"
   ]
  },
  {
   "cell_type": "markdown",
   "metadata": {},
   "source": [
    "## 9. Reflection (2 marks)\n",
    "\n"
   ]
  },
  {
   "cell_type": "markdown",
   "metadata": {},
   "source": [
    "Include a sentence or two about:\n",
    "- what you liked or disliked,\n",
    "- found interesting, confusing, challangeing, motivating while working on this assignment.\n",
    "\n",
    "*ADD YOUR THOUGHTS HERE*"
   ]
  },
  {
   "cell_type": "markdown",
   "metadata": {},
   "source": [
    "# Appendix-A: Bonus - use grid search to find the best model parameters\n",
    "### (5 potential bonus marks)"
   ]
  },
  {
   "cell_type": "markdown",
   "metadata": {},
   "source": [
    "## A-0. Workflow overview"
   ]
  },
  {
   "cell_type": "code",
   "execution_count": null,
   "metadata": {},
   "outputs": [],
   "source": [
    "import mglearn\n",
    "mglearn.plots.plot_grid_search_overview()"
   ]
  },
  {
   "cell_type": "markdown",
   "metadata": {},
   "source": [
    "## A-1. Hyperparameter tuning using grid search (2 marks)\n",
    "\n",
    "The inital cross-validation above showed that both DecisionTree based models might have merit. Next, the hyperparameters are tuned using grid search."
   ]
  },
  {
   "cell_type": "markdown",
   "metadata": {},
   "source": [
    "### A-1.1 Grid search for RandomForestRegressor\n",
    "\n",
    "Perform grid search using `GridSearchCV` for the `RandomForestRegressor(random_state=64)`.\n",
    "\n",
    "Grid search to use 7-fold cross-validation, and `neg_root_mean_squared_error` as the scoring function.\n",
    "\n",
    "Use the following hyperparameters and values:\n",
    "- `'n_estimators': [100, 200, 400]`\n",
    "- `'max_depth': [ 15, 17, 19, 21]`\n",
    "- `'max_features': ['auto', 'log2', None]`\n"
   ]
  },
  {
   "cell_type": "code",
   "execution_count": null,
   "metadata": {},
   "outputs": [],
   "source": [
    "# TODO: Setup grid search for RandomForestRegressor(random_state=64)\n"
   ]
  },
  {
   "cell_type": "code",
   "execution_count": null,
   "metadata": {},
   "outputs": [],
   "source": [
    "# TODO: perform the grid search by calling fit()\n"
   ]
  },
  {
   "cell_type": "code",
   "execution_count": null,
   "metadata": {},
   "outputs": [],
   "source": [
    "# TODO: Print the best parameters\n"
   ]
  },
  {
   "cell_type": "code",
   "execution_count": null,
   "metadata": {},
   "outputs": [],
   "source": [
    "# TODO: Print the best score\n"
   ]
  },
  {
   "cell_type": "markdown",
   "metadata": {},
   "source": [
    "### A-1.2 Grid search for gradient boosted tree\n",
    "\n",
    "Perform grid search using `GridSearchCV` for the `GradientBoostingRegressor(random_state=79)`.\n",
    "\n",
    "Grid search to use 7-fold cross-validation, and `neg_root_mean_squared_error` as the scoring function.\n",
    "\n",
    "Use the following hyperparameters and values:\n",
    "- `'n_estimators': [100, 200, 500]`\n",
    "- `'max_depth': [1, 3, 5, 7]`\n",
    "- `'learning_rate': [0.01, 0.1, 1.0]`"
   ]
  },
  {
   "cell_type": "code",
   "execution_count": null,
   "metadata": {},
   "outputs": [],
   "source": [
    "# TODO: Setup grid search for GradientBoostingRegressor(random_state=79)\n"
   ]
  },
  {
   "cell_type": "code",
   "execution_count": null,
   "metadata": {},
   "outputs": [],
   "source": [
    "# TODO: perform the grid search by calling fit()\n"
   ]
  },
  {
   "cell_type": "code",
   "execution_count": null,
   "metadata": {},
   "outputs": [],
   "source": [
    "# TODO: Print the best parameters\n"
   ]
  },
  {
   "cell_type": "code",
   "execution_count": null,
   "metadata": {},
   "outputs": [],
   "source": [
    "# TODO: Print the best score\n"
   ]
  },
  {
   "cell_type": "markdown",
   "metadata": {},
   "source": [
    "### *Question A-1:* Which of the two models produces the best score? What is the best score?"
   ]
  },
  {
   "cell_type": "markdown",
   "metadata": {},
   "source": [
    "*YOUR ANSWER HERE*\n"
   ]
  },
  {
   "cell_type": "markdown",
   "metadata": {},
   "source": [
    "## A-2. Retrain best model (1 mark)\n",
    "\n",
    "Get the best estimator from the two grid searches above and retrain this model on all training data."
   ]
  },
  {
   "cell_type": "code",
   "execution_count": null,
   "metadata": {},
   "outputs": [],
   "source": [
    "#TODO: retrain the best estimator\n",
    "\n"
   ]
  },
  {
   "cell_type": "markdown",
   "metadata": {},
   "source": [
    "## A-3. Model evaluation and conclusion (1 mark)\n",
    "\n",
    "Repeat steps in Section 7 above for the best model.\n",
    "\n",
    "Revisit your Question 4."
   ]
  },
  {
   "cell_type": "code",
   "execution_count": null,
   "metadata": {},
   "outputs": [],
   "source": [
    "#TODO: train and test set scores of retrained best model\n"
   ]
  },
  {
   "cell_type": "code",
   "execution_count": null,
   "metadata": {},
   "outputs": [],
   "source": [
    "#TODO: predicted-actual plot\n"
   ]
  },
  {
   "cell_type": "code",
   "execution_count": null,
   "metadata": {},
   "outputs": [],
   "source": [
    "# TODO: Residual plot\n"
   ]
  },
  {
   "cell_type": "markdown",
   "metadata": {
    "tags": []
   },
   "source": [
    "### *Question A-4:* How does this test score compare to the polynomial regression and neural network reported in the article? Do we outperform the reported models? (1 mark)"
   ]
  },
  {
   "cell_type": "markdown",
   "metadata": {},
   "source": [
    "*YOUR ANSWER HERE*\n"
   ]
  }
 ],
 "metadata": {
  "kernelspec": {
   "display_name": "Python 3 (ipykernel)",
   "language": "python",
   "name": "python3"
  },
  "language_info": {
   "codemirror_mode": {
    "name": "ipython",
    "version": 3
   },
   "file_extension": ".py",
   "mimetype": "text/x-python",
   "name": "python",
   "nbconvert_exporter": "python",
   "pygments_lexer": "ipython3",
   "version": "3.9.13"
  }
 },
 "nbformat": 4,
 "nbformat_minor": 4
}
